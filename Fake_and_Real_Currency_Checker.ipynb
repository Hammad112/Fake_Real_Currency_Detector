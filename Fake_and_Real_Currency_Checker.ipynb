{
  "cells": [
    {
      "cell_type": "markdown",
      "source": [
        "## Objective\n",
        "- Detect Fake and Real Notes on basis of features"
      ],
      "metadata": {
        "id": "sAxSQps_dlcQ"
      },
      "id": "sAxSQps_dlcQ"
    },
    {
      "cell_type": "markdown",
      "source": [
        "# Keras Basics\n",
        "\n",
        "Welcome to the section on deep learning! We'll be using Keras with a TensorFlow backend to perform our deep learning operations.\n",
        "\n",
        "This means we should get familiar with some Keras fundamentals and basics!\n",
        "\n",
        "## Imports\n",
        "\n"
      ],
      "metadata": {
        "id": "r4f668_AdRol"
      },
      "id": "r4f668_AdRol"
    },
    {
      "cell_type": "code",
      "execution_count": 4,
      "id": "1d435d0d-8ed5-403c-9be2-750aae952256",
      "metadata": {
        "id": "1d435d0d-8ed5-403c-9be2-750aae952256"
      },
      "outputs": [],
      "source": [
        "import numpy as np"
      ]
    },
    {
      "cell_type": "markdown",
      "source": [
        "## Dataset\n",
        "\n",
        "We will use the Bank Authentication Data Set to start off with. This data set consists of various image features derived from images that had 400 x 400 pixels. You should note **the data itself that we will be using ARE NOT ACTUAL IMAGES**, they are **features** of images. In the next lecture we will cover grabbing and working with image data with Keras. This notebook focuses on learning the basics of building a neural network with Keras.\n",
        "\n",
        "_____\n",
        "More info on the data set:\n",
        "\n",
        "https://archive.ics.uci.edu/ml/datasets/banknote+authentication\n",
        "\n",
        "Data were extracted from images that were taken from genuine and forged banknote-like specimens. For digitization, an industrial camera usually used for print inspection was used. The final images have 400x 400 pixels. Due to the object lens and distance to the investigated object gray-scale pictures with a resolution of about 660 dpi were gained. Wavelet Transform tool were used to extract features from images.\n",
        "\n",
        "\n",
        "Attribute Information:\n",
        "\n",
        "1. variance of Wavelet Transformed image (continuous)\n",
        "2. skewness of Wavelet Transformed image (continuous)\n",
        "3. curtosis of Wavelet Transformed image (continuous)\n",
        "4. entropy of image (continuous)\n",
        "5. class (integer)\n",
        "\n",
        "## Reading in the Data Set\n",
        "\n",
        "We've already downloaded the dataset, its in the DATA folder. So let's open it up."
      ],
      "metadata": {
        "id": "l9eaKq3udbQz"
      },
      "id": "l9eaKq3udbQz"
    },
    {
      "cell_type": "code",
      "execution_count": 5,
      "id": "f0a11292-a727-4abe-94cb-e5ba2e1446e4",
      "metadata": {
        "id": "f0a11292-a727-4abe-94cb-e5ba2e1446e4"
      },
      "outputs": [],
      "source": [
        "from numpy import genfromtxt"
      ]
    },
    {
      "cell_type": "code",
      "execution_count": 6,
      "id": "eb8b69e7-9808-42bf-b54a-55e0c2416151",
      "metadata": {
        "colab": {
          "base_uri": "https://localhost:8080/"
        },
        "id": "eb8b69e7-9808-42bf-b54a-55e0c2416151",
        "outputId": "adb1cd5e-aacd-46ca-bc34-4ea3fb388aea"
      },
      "outputs": [
        {
          "output_type": "execute_result",
          "data": {
            "text/plain": [
              "array([[  3.6216 ,   8.6661 ,  -2.8073 ,  -0.44699,   0.     ],\n",
              "       [  4.5459 ,   8.1674 ,  -2.4586 ,  -1.4621 ,   0.     ],\n",
              "       [  3.866  ,  -2.6383 ,   1.9242 ,   0.10645,   0.     ],\n",
              "       ...,\n",
              "       [ -3.7503 , -13.4586 ,  17.5932 ,  -2.7771 ,   1.     ],\n",
              "       [ -3.5637 ,  -8.3827 ,  12.393  ,  -1.2823 ,   1.     ],\n",
              "       [ -2.5419 ,  -0.65804,   2.6842 ,   1.1952 ,   1.     ]])"
            ]
          },
          "metadata": {},
          "execution_count": 6
        }
      ],
      "source": [
        "data=genfromtxt('bank_note_data.txt',delimiter=',') # delimiter added beacuse this is preloaded data so it needs such features\n",
        "data"
      ]
    },
    {
      "cell_type": "code",
      "execution_count": 7,
      "id": "ec3f976c-87d9-4349-833b-598d74cb96ac",
      "metadata": {
        "id": "ec3f976c-87d9-4349-833b-598d74cb96ac"
      },
      "outputs": [],
      "source": [
        "labels=data[:,4] #Target"
      ]
    },
    {
      "cell_type": "code",
      "execution_count": 8,
      "id": "38a3a24e-47f1-4896-bba3-fce82d893f46",
      "metadata": {
        "colab": {
          "base_uri": "https://localhost:8080/"
        },
        "id": "38a3a24e-47f1-4896-bba3-fce82d893f46",
        "outputId": "01fc2f8a-77d6-4c6d-d99d-c366f1b22b9d"
      },
      "outputs": [
        {
          "output_type": "execute_result",
          "data": {
            "text/plain": [
              "array([0., 0., 0., ..., 1., 1., 1.])"
            ]
          },
          "metadata": {},
          "execution_count": 8
        }
      ],
      "source": [
        "labels"
      ]
    },
    {
      "cell_type": "markdown",
      "source": [
        "## Feature Extraction"
      ],
      "metadata": {
        "id": "fi2Vz1XDdxXB"
      },
      "id": "fi2Vz1XDdxXB"
    },
    {
      "cell_type": "code",
      "execution_count": 9,
      "id": "000c108a-8503-4012-b571-4b6deb965bca",
      "metadata": {
        "id": "000c108a-8503-4012-b571-4b6deb965bca"
      },
      "outputs": [],
      "source": [
        "features=data[:,0:4]  #Features"
      ]
    },
    {
      "cell_type": "code",
      "execution_count": 10,
      "id": "e89a2b8b-ea94-4240-858d-ed7b352ecc2c",
      "metadata": {
        "colab": {
          "base_uri": "https://localhost:8080/"
        },
        "id": "e89a2b8b-ea94-4240-858d-ed7b352ecc2c",
        "outputId": "94ce8ee1-5a4a-4184-943d-0018628a92b5"
      },
      "outputs": [
        {
          "output_type": "execute_result",
          "data": {
            "text/plain": [
              "array([[  3.6216 ,   8.6661 ,  -2.8073 ,  -0.44699],\n",
              "       [  4.5459 ,   8.1674 ,  -2.4586 ,  -1.4621 ],\n",
              "       [  3.866  ,  -2.6383 ,   1.9242 ,   0.10645],\n",
              "       ...,\n",
              "       [ -3.7503 , -13.4586 ,  17.5932 ,  -2.7771 ],\n",
              "       [ -3.5637 ,  -8.3827 ,  12.393  ,  -1.2823 ],\n",
              "       [ -2.5419 ,  -0.65804,   2.6842 ,   1.1952 ]])"
            ]
          },
          "metadata": {},
          "execution_count": 10
        }
      ],
      "source": [
        "features"
      ]
    },
    {
      "cell_type": "code",
      "execution_count": 11,
      "id": "d704eb61-98ae-4503-ab08-fdefdc81cb49",
      "metadata": {
        "id": "d704eb61-98ae-4503-ab08-fdefdc81cb49"
      },
      "outputs": [],
      "source": [
        "X=features\n",
        "y=labels"
      ]
    },
    {
      "cell_type": "markdown",
      "id": "f743bd69-0073-49c9-917b-b5907a6b601c",
      "metadata": {
        "id": "f743bd69-0073-49c9-917b-b5907a6b601c"
      },
      "source": [
        "## **Split Data into Train and Test**\n",
        "\n",
        "Its time to split the data into a train/test set. Keep in mind, sometimes people like to split 3 ways, train/test/validation. We'll keep things simple for now. **Remember to check out the video explanation as to why we split and what all the parameters mean!**"
      ]
    },
    {
      "cell_type": "code",
      "execution_count": 12,
      "id": "047ff6ee-56a6-48fe-b8a7-dfc91d5ebaeb",
      "metadata": {
        "id": "047ff6ee-56a6-48fe-b8a7-dfc91d5ebaeb"
      },
      "outputs": [],
      "source": [
        "from  sklearn.model_selection import train_test_split"
      ]
    },
    {
      "cell_type": "code",
      "execution_count": 13,
      "id": "7f3b9b01-6bc5-4be0-a18c-13f84d1de86e",
      "metadata": {
        "id": "7f3b9b01-6bc5-4be0-a18c-13f84d1de86e"
      },
      "outputs": [],
      "source": [
        "X_train,X_test,y_train,y_test=train_test_split(X,y,test_size=0.2,random_state=42)\n",
        "#Random state=0 : seed Value meaning it will keep X_train data as it kept before"
      ]
    },
    {
      "cell_type": "markdown",
      "id": "9ebf20cd-3e7c-48ad-9bb0-1980dc2f1a32",
      "metadata": {
        "id": "9ebf20cd-3e7c-48ad-9bb0-1980dc2f1a32"
      },
      "source": [
        "### **Standardization**"
      ]
    },
    {
      "cell_type": "code",
      "execution_count": 14,
      "id": "d134e4d3-8bc7-440e-97b7-e95b6b1e8c90",
      "metadata": {
        "id": "d134e4d3-8bc7-440e-97b7-e95b6b1e8c90"
      },
      "outputs": [],
      "source": [
        "from sklearn.preprocessing import MinMaxScaler"
      ]
    },
    {
      "cell_type": "markdown",
      "source": [
        "Usually when using Neural Networks, you will get better performance when you standardize the data. Standardization just means normalizing the values to all fit between a certain range, like 0-1, or -1 to 1.\n",
        "\n",
        "The scikit learn library also provides a nice function for this.\n",
        "\n",
        "http://scikit-learn.org/stable/modules/generated/sklearn.preprocessing.MinMaxScaler.html"
      ],
      "metadata": {
        "id": "e8ebMAodem0w"
      },
      "id": "e8ebMAodem0w"
    },
    {
      "cell_type": "markdown",
      "source": [
        "#### **Scaled X_train**"
      ],
      "metadata": {
        "id": "PNOmYXfSd5CM"
      },
      "id": "PNOmYXfSd5CM"
    },
    {
      "cell_type": "code",
      "execution_count": 15,
      "id": "a25e32cf-fe04-49cd-85ec-d3f0a5769867",
      "metadata": {
        "id": "a25e32cf-fe04-49cd-85ec-d3f0a5769867"
      },
      "outputs": [],
      "source": [
        "#intializing Object\n",
        "min_max=MinMaxScaler()\n",
        "\n",
        "Scaled_X_train=min_max.fit_transform(X_train)"
      ]
    },
    {
      "cell_type": "code",
      "execution_count": 16,
      "id": "6b2fc475-dec7-455b-9333-b9ffd42963f7",
      "metadata": {
        "colab": {
          "base_uri": "https://localhost:8080/"
        },
        "id": "6b2fc475-dec7-455b-9333-b9ffd42963f7",
        "outputId": "445e84ff-6324-4ee6-f8c6-e4b458e59539"
      },
      "outputs": [
        {
          "output_type": "execute_result",
          "data": {
            "text/plain": [
              "array([[-1.3885  , 12.5026  ,  0.69118 , -7.5487  ],\n",
              "       [ 2.7744  ,  6.8576  , -1.0671  ,  0.075416],\n",
              "       [-4.2887  , -7.8633  , 11.8387  , -1.8978  ],\n",
              "       ...,\n",
              "       [-7.0364  ,  9.2931  ,  0.16594 , -4.5396  ],\n",
              "       [-3.4605  ,  2.6901  ,  0.16165 , -1.0224  ],\n",
              "       [-3.3582  , -7.2404  , 11.4419  , -0.57113 ]])"
            ]
          },
          "metadata": {},
          "execution_count": 16
        }
      ],
      "source": [
        "X_train"
      ]
    },
    {
      "cell_type": "code",
      "execution_count": 17,
      "id": "36caadef-3897-44c5-be6d-1f7fbd08f259",
      "metadata": {
        "colab": {
          "base_uri": "https://localhost:8080/"
        },
        "id": "36caadef-3897-44c5-be6d-1f7fbd08f259",
        "outputId": "5afe35d6-6e03-4ac5-a0cf-eab11e510e70"
      },
      "outputs": [
        {
          "output_type": "execute_result",
          "data": {
            "text/plain": [
              "array([[4.07704678e-01, 9.83199063e-01, 2.56697443e-01, 9.33178971e-02],\n",
              "       [7.07908761e-01, 7.71971248e-01, 1.80872580e-01, 8.05140280e-01],\n",
              "       [1.98559159e-01, 2.21136252e-01, 7.37428144e-01, 6.20911798e-01],\n",
              "       ...,\n",
              "       [4.11050776e-04, 8.63104170e-01, 2.34046756e-01, 3.74261253e-01],\n",
              "       [2.58284115e-01, 6.16029366e-01, 2.33861752e-01, 7.02643151e-01],\n",
              "       [2.65661395e-01, 2.44444278e-01, 7.20316361e-01, 7.44775785e-01]])"
            ]
          },
          "metadata": {},
          "execution_count": 17
        }
      ],
      "source": [
        "Scaled_X_train"
      ]
    },
    {
      "cell_type": "markdown",
      "source": [
        "#### **Scale X_test**"
      ],
      "metadata": {
        "id": "LJdS8rUhd98X"
      },
      "id": "LJdS8rUhd98X"
    },
    {
      "cell_type": "code",
      "execution_count": 18,
      "id": "3d9b04c2-f9cf-4346-afef-2fa40377246a",
      "metadata": {
        "id": "3d9b04c2-f9cf-4346-afef-2fa40377246a"
      },
      "outputs": [],
      "source": [
        "#intializing Object\n",
        "min_max=MinMaxScaler()\n",
        "Scaled_X_test=min_max.fit_transform(X_test)"
      ]
    },
    {
      "cell_type": "code",
      "execution_count": 19,
      "id": "5af1ee9d-bff5-4298-bad6-486dc82f5602",
      "metadata": {
        "colab": {
          "base_uri": "https://localhost:8080/"
        },
        "id": "5af1ee9d-bff5-4298-bad6-486dc82f5602",
        "outputId": "7f721bf9-85d1-4b1a-c32c-648bbb4f4da4"
      },
      "outputs": [
        {
          "output_type": "execute_result",
          "data": {
            "text/plain": [
              "array([[0.65576832, 0.76019778, 0.24484009, 0.52394294],\n",
              "       [0.51021119, 0.83150383, 0.1032605 , 0.51241232],\n",
              "       [0.53621584, 0.78751834, 0.15506107, 0.45135977],\n",
              "       ...,\n",
              "       [0.8049803 , 0.34220013, 0.42357773, 0.77514695],\n",
              "       [0.51021277, 0.83150383, 0.1032605 , 0.51241232],\n",
              "       [0.7514342 , 0.93958965, 0.08295672, 0.3285983 ]])"
            ]
          },
          "metadata": {},
          "execution_count": 19
        }
      ],
      "source": [
        "Scaled_X_test"
      ]
    },
    {
      "cell_type": "markdown",
      "id": "4072af8d-b530-4f61-9882-1c3316bb6c09",
      "metadata": {
        "id": "4072af8d-b530-4f61-9882-1c3316bb6c09"
      },
      "source": [
        "## **Building Neaural Network**"
      ]
    },
    {
      "cell_type": "code",
      "execution_count": 20,
      "id": "6ea74034-7267-4d23-a542-0e4b6a8ea6ce",
      "metadata": {
        "id": "6ea74034-7267-4d23-a542-0e4b6a8ea6ce"
      },
      "outputs": [],
      "source": [
        "from keras.models import Sequential\n",
        "from keras.layers import Dense\n"
      ]
    },
    {
      "cell_type": "markdown",
      "source": [
        "#### **Adding Hidden Layers**"
      ],
      "metadata": {
        "id": "tYYlDDUTeERL"
      },
      "id": "tYYlDDUTeERL"
    },
    {
      "cell_type": "code",
      "execution_count": 21,
      "id": "abaa7c60-f400-47d1-b8f4-5f1b2bdf2a44",
      "metadata": {
        "id": "abaa7c60-f400-47d1-b8f4-5f1b2bdf2a44"
      },
      "outputs": [],
      "source": [
        "model=Sequential()\n",
        "# 8 Neurons, expects input of 4 features.\n",
        "# Play around with the number of neurons!!\n",
        "#First Layer\n",
        "model.add(Dense(4,input_dim=4,activation='relu'))\n",
        "# Add another Densely Connected layer (every neuron connected to every neuron in the next layer)\n",
        "#Second Layer\n",
        "model.add(Dense(8,activation='relu'))\n",
        "# Last layer simple sigmoid function to output 0 or 1 (our label)\n",
        "#Output Layer\n",
        "model.add(Dense(1,activation='sigmoid'))  #Binary Classification ,yes or No"
      ]
    },
    {
      "cell_type": "markdown",
      "source": [
        "#### **Compiling the Model**"
      ],
      "metadata": {
        "id": "AlwiLcloeKoF"
      },
      "id": "AlwiLcloeKoF"
    },
    {
      "cell_type": "code",
      "execution_count": 22,
      "id": "5a3460b3-398c-41a7-8629-8c32d45bf993",
      "metadata": {
        "id": "5a3460b3-398c-41a7-8629-8c32d45bf993"
      },
      "outputs": [],
      "source": [
        "model.compile(loss='binary_crossentropy',optimizer='adam',metrics=['accuracy'])\n",
        "#binary Classification we use  binary_crossentropy"
      ]
    },
    {
      "cell_type": "markdown",
      "source": [
        "### **Training Model**"
      ],
      "metadata": {
        "id": "mBZAYHAQeQAm"
      },
      "id": "mBZAYHAQeQAm"
    },
    {
      "cell_type": "code",
      "execution_count": 24,
      "id": "d787e5c4-59f1-410b-b8d3-81e86a758d44",
      "metadata": {
        "colab": {
          "base_uri": "https://localhost:8080/"
        },
        "id": "d787e5c4-59f1-410b-b8d3-81e86a758d44",
        "outputId": "94b0aa9b-914e-4f1b-b364-645326be2c52"
      },
      "outputs": [
        {
          "output_type": "stream",
          "name": "stdout",
          "text": [
            "Epoch 1/50\n",
            "35/35 - 0s - loss: 0.2832 - accuracy: 0.9116 - 64ms/epoch - 2ms/step\n",
            "Epoch 2/50\n",
            "35/35 - 0s - loss: 0.2697 - accuracy: 0.9198 - 62ms/epoch - 2ms/step\n",
            "Epoch 3/50\n",
            "35/35 - 0s - loss: 0.2582 - accuracy: 0.9262 - 66ms/epoch - 2ms/step\n",
            "Epoch 4/50\n",
            "35/35 - 0s - loss: 0.2482 - accuracy: 0.9280 - 64ms/epoch - 2ms/step\n",
            "Epoch 5/50\n",
            "35/35 - 0s - loss: 0.2380 - accuracy: 0.9389 - 73ms/epoch - 2ms/step\n",
            "Epoch 6/50\n",
            "35/35 - 0s - loss: 0.2286 - accuracy: 0.9398 - 91ms/epoch - 3ms/step\n",
            "Epoch 7/50\n",
            "35/35 - 0s - loss: 0.2201 - accuracy: 0.9426 - 84ms/epoch - 2ms/step\n",
            "Epoch 8/50\n",
            "35/35 - 0s - loss: 0.2122 - accuracy: 0.9462 - 67ms/epoch - 2ms/step\n",
            "Epoch 9/50\n",
            "35/35 - 0s - loss: 0.2041 - accuracy: 0.9462 - 62ms/epoch - 2ms/step\n",
            "Epoch 10/50\n",
            "35/35 - 0s - loss: 0.1972 - accuracy: 0.9462 - 77ms/epoch - 2ms/step\n",
            "Epoch 11/50\n",
            "35/35 - 0s - loss: 0.1895 - accuracy: 0.9499 - 60ms/epoch - 2ms/step\n",
            "Epoch 12/50\n",
            "35/35 - 0s - loss: 0.1823 - accuracy: 0.9426 - 81ms/epoch - 2ms/step\n",
            "Epoch 13/50\n",
            "35/35 - 0s - loss: 0.1767 - accuracy: 0.9517 - 63ms/epoch - 2ms/step\n",
            "Epoch 14/50\n",
            "35/35 - 0s - loss: 0.1698 - accuracy: 0.9508 - 59ms/epoch - 2ms/step\n",
            "Epoch 15/50\n",
            "35/35 - 0s - loss: 0.1627 - accuracy: 0.9517 - 61ms/epoch - 2ms/step\n",
            "Epoch 16/50\n",
            "35/35 - 0s - loss: 0.1575 - accuracy: 0.9526 - 75ms/epoch - 2ms/step\n",
            "Epoch 17/50\n",
            "35/35 - 0s - loss: 0.1522 - accuracy: 0.9526 - 61ms/epoch - 2ms/step\n",
            "Epoch 18/50\n",
            "35/35 - 0s - loss: 0.1474 - accuracy: 0.9544 - 67ms/epoch - 2ms/step\n",
            "Epoch 19/50\n",
            "35/35 - 0s - loss: 0.1446 - accuracy: 0.9526 - 97ms/epoch - 3ms/step\n",
            "Epoch 20/50\n",
            "35/35 - 0s - loss: 0.1390 - accuracy: 0.9590 - 80ms/epoch - 2ms/step\n",
            "Epoch 21/50\n",
            "35/35 - 0s - loss: 0.1348 - accuracy: 0.9544 - 91ms/epoch - 3ms/step\n",
            "Epoch 22/50\n",
            "35/35 - 0s - loss: 0.1315 - accuracy: 0.9581 - 62ms/epoch - 2ms/step\n",
            "Epoch 23/50\n",
            "35/35 - 0s - loss: 0.1269 - accuracy: 0.9544 - 62ms/epoch - 2ms/step\n",
            "Epoch 24/50\n",
            "35/35 - 0s - loss: 0.1236 - accuracy: 0.9599 - 66ms/epoch - 2ms/step\n",
            "Epoch 25/50\n",
            "35/35 - 0s - loss: 0.1198 - accuracy: 0.9572 - 62ms/epoch - 2ms/step\n",
            "Epoch 26/50\n",
            "35/35 - 0s - loss: 0.1169 - accuracy: 0.9572 - 78ms/epoch - 2ms/step\n",
            "Epoch 27/50\n",
            "35/35 - 0s - loss: 0.1141 - accuracy: 0.9617 - 65ms/epoch - 2ms/step\n",
            "Epoch 28/50\n",
            "35/35 - 0s - loss: 0.1114 - accuracy: 0.9599 - 65ms/epoch - 2ms/step\n",
            "Epoch 29/50\n",
            "35/35 - 0s - loss: 0.1097 - accuracy: 0.9581 - 60ms/epoch - 2ms/step\n",
            "Epoch 30/50\n",
            "35/35 - 0s - loss: 0.1055 - accuracy: 0.9617 - 77ms/epoch - 2ms/step\n",
            "Epoch 31/50\n",
            "35/35 - 0s - loss: 0.1033 - accuracy: 0.9617 - 64ms/epoch - 2ms/step\n",
            "Epoch 32/50\n",
            "35/35 - 0s - loss: 0.1016 - accuracy: 0.9617 - 88ms/epoch - 3ms/step\n",
            "Epoch 33/50\n",
            "35/35 - 0s - loss: 0.0984 - accuracy: 0.9617 - 79ms/epoch - 2ms/step\n",
            "Epoch 34/50\n",
            "35/35 - 0s - loss: 0.0969 - accuracy: 0.9626 - 97ms/epoch - 3ms/step\n",
            "Epoch 35/50\n",
            "35/35 - 0s - loss: 0.0945 - accuracy: 0.9617 - 78ms/epoch - 2ms/step\n",
            "Epoch 36/50\n",
            "35/35 - 0s - loss: 0.0926 - accuracy: 0.9654 - 76ms/epoch - 2ms/step\n",
            "Epoch 37/50\n",
            "35/35 - 0s - loss: 0.0936 - accuracy: 0.9635 - 70ms/epoch - 2ms/step\n",
            "Epoch 38/50\n",
            "35/35 - 0s - loss: 0.0891 - accuracy: 0.9644 - 64ms/epoch - 2ms/step\n",
            "Epoch 39/50\n",
            "35/35 - 0s - loss: 0.0871 - accuracy: 0.9663 - 77ms/epoch - 2ms/step\n",
            "Epoch 40/50\n",
            "35/35 - 0s - loss: 0.0850 - accuracy: 0.9681 - 65ms/epoch - 2ms/step\n",
            "Epoch 41/50\n",
            "35/35 - 0s - loss: 0.0836 - accuracy: 0.9663 - 58ms/epoch - 2ms/step\n",
            "Epoch 42/50\n",
            "35/35 - 0s - loss: 0.0822 - accuracy: 0.9672 - 56ms/epoch - 2ms/step\n",
            "Epoch 43/50\n",
            "35/35 - 0s - loss: 0.0809 - accuracy: 0.9681 - 60ms/epoch - 2ms/step\n",
            "Epoch 44/50\n",
            "35/35 - 0s - loss: 0.0791 - accuracy: 0.9690 - 61ms/epoch - 2ms/step\n",
            "Epoch 45/50\n",
            "35/35 - 0s - loss: 0.0779 - accuracy: 0.9654 - 72ms/epoch - 2ms/step\n",
            "Epoch 46/50\n",
            "35/35 - 0s - loss: 0.0767 - accuracy: 0.9690 - 95ms/epoch - 3ms/step\n",
            "Epoch 47/50\n",
            "35/35 - 0s - loss: 0.0743 - accuracy: 0.9672 - 82ms/epoch - 2ms/step\n",
            "Epoch 48/50\n",
            "35/35 - 0s - loss: 0.0733 - accuracy: 0.9690 - 76ms/epoch - 2ms/step\n",
            "Epoch 49/50\n",
            "35/35 - 0s - loss: 0.0721 - accuracy: 0.9727 - 71ms/epoch - 2ms/step\n",
            "Epoch 50/50\n",
            "35/35 - 0s - loss: 0.0712 - accuracy: 0.9690 - 93ms/epoch - 3ms/step\n"
          ]
        },
        {
          "output_type": "execute_result",
          "data": {
            "text/plain": [
              "<keras.src.callbacks.History at 0x79cc92f61030>"
            ]
          },
          "metadata": {},
          "execution_count": 24
        }
      ],
      "source": [
        "model.fit(Scaled_X_train,y_train,epochs=50,verbose=2)\n",
        "#epochs is the number of time data will be passed through model\n",
        "#verbose is the way it is written while compiling"
      ]
    },
    {
      "cell_type": "code",
      "source": [
        "Scaled_X_test"
      ],
      "metadata": {
        "colab": {
          "base_uri": "https://localhost:8080/"
        },
        "id": "iA6Yjg8maHQC",
        "outputId": "f394be0e-1aea-4dd7-c1ac-306da6b89496"
      },
      "id": "iA6Yjg8maHQC",
      "execution_count": 25,
      "outputs": [
        {
          "output_type": "execute_result",
          "data": {
            "text/plain": [
              "array([[0.65576832, 0.76019778, 0.24484009, 0.52394294],\n",
              "       [0.51021119, 0.83150383, 0.1032605 , 0.51241232],\n",
              "       [0.53621584, 0.78751834, 0.15506107, 0.45135977],\n",
              "       ...,\n",
              "       [0.8049803 , 0.34220013, 0.42357773, 0.77514695],\n",
              "       [0.51021277, 0.83150383, 0.1032605 , 0.51241232],\n",
              "       [0.7514342 , 0.93958965, 0.08295672, 0.3285983 ]])"
            ]
          },
          "metadata": {},
          "execution_count": 25
        }
      ]
    },
    {
      "cell_type": "markdown",
      "source": [
        "## Predicting New Unseen Data\n",
        "\n",
        "Let's see how we did by predicting on **new data**. Remember, our model has **never** seen the test data that we scaled previously! This process is the exact same process you would use on totally brand new data. For example , a brand new bank note that you just analyzed ."
      ],
      "metadata": {
        "id": "-V373Xm4fAfl"
      },
      "id": "-V373Xm4fAfl"
    },
    {
      "cell_type": "code",
      "execution_count": 26,
      "id": "062da69a-9f71-4ff8-8e18-d76ad892797f",
      "metadata": {
        "colab": {
          "base_uri": "https://localhost:8080/"
        },
        "id": "062da69a-9f71-4ff8-8e18-d76ad892797f",
        "outputId": "f0a2b1d2-a957-4b43-af18-c65fcd9b1754"
      },
      "outputs": [
        {
          "output_type": "stream",
          "name": "stdout",
          "text": [
            "9/9 [==============================] - 0s 3ms/step\n"
          ]
        }
      ],
      "source": [
        "predictions=model.predict(Scaled_X_test)"
      ]
    },
    {
      "cell_type": "code",
      "source": [
        "# Print the predicted probabilities for the first 5 samples\n",
        "print(predictions[:5])"
      ],
      "metadata": {
        "colab": {
          "base_uri": "https://localhost:8080/"
        },
        "id": "U0uCw2H3fK_P",
        "outputId": "e82c193c-50d0-4d03-d661-9a13e5351a60"
      },
      "id": "U0uCw2H3fK_P",
      "execution_count": 38,
      "outputs": [
        {
          "output_type": "stream",
          "name": "stdout",
          "text": [
            "[[0.00339655]\n",
            " [0.26251358]\n",
            " [0.07482662]\n",
            " [0.0149166 ]\n",
            " [0.00241024]]\n"
          ]
        }
      ]
    },
    {
      "cell_type": "code",
      "source": [
        "predictions   #Proability for real or fake\n",
        "# 0 & 1"
      ],
      "metadata": {
        "colab": {
          "base_uri": "https://localhost:8080/"
        },
        "id": "Fi5kZ44faLIz",
        "outputId": "e4338e9d-444e-410b-cc9f-676a90eebb7d"
      },
      "id": "Fi5kZ44faLIz",
      "execution_count": 29,
      "outputs": [
        {
          "output_type": "execute_result",
          "data": {
            "text/plain": [
              "array([[3.3965462e-03],\n",
              "       [2.6251358e-01],\n",
              "       [7.4826621e-02],\n",
              "       [1.4916598e-02],\n",
              "       [2.4102428e-03],\n",
              "       [8.7553903e-04],\n",
              "       [9.8309750e-03],\n",
              "       [4.9248739e-04],\n",
              "       [1.1905199e-03],\n",
              "       [3.7345740e-03],\n",
              "       [5.4698974e-01],\n",
              "       [9.7069710e-01],\n",
              "       [4.6250136e-03],\n",
              "       [7.7226275e-01],\n",
              "       [6.0423080e-02],\n",
              "       [2.2497356e-01],\n",
              "       [9.5734471e-01],\n",
              "       [9.6661210e-01],\n",
              "       [5.7181460e-01],\n",
              "       [8.0467802e-01],\n",
              "       [2.1298535e-03],\n",
              "       [2.1654849e-03],\n",
              "       [8.6465758e-01],\n",
              "       [1.0797704e-03],\n",
              "       [9.9955010e-01],\n",
              "       [9.5008675e-04],\n",
              "       [8.1563293e-04],\n",
              "       [8.7853581e-01],\n",
              "       [4.9543584e-04],\n",
              "       [3.0278196e-04],\n",
              "       [9.1569126e-01],\n",
              "       [3.4434230e-03],\n",
              "       [6.9965199e-03],\n",
              "       [9.9933547e-01],\n",
              "       [9.9783957e-01],\n",
              "       [7.9944613e-04],\n",
              "       [4.8600712e-01],\n",
              "       [9.1467351e-01],\n",
              "       [9.7699124e-01],\n",
              "       [2.9100552e-03],\n",
              "       [2.0354504e-03],\n",
              "       [9.0142399e-01],\n",
              "       [9.2106646e-01],\n",
              "       [2.4882925e-03],\n",
              "       [9.9832624e-01],\n",
              "       [7.9933810e-01],\n",
              "       [9.8989302e-01],\n",
              "       [1.8934314e-03],\n",
              "       [2.0526494e-03],\n",
              "       [3.1781641e-01],\n",
              "       [1.7984417e-03],\n",
              "       [4.0945370e-04],\n",
              "       [6.7199175e-03],\n",
              "       [9.6560316e-04],\n",
              "       [3.7303831e-02],\n",
              "       [8.7650228e-01],\n",
              "       [6.6664368e-02],\n",
              "       [5.5327837e-04],\n",
              "       [1.1742046e-03],\n",
              "       [1.4535077e-03],\n",
              "       [9.7721899e-01],\n",
              "       [1.9261414e-03],\n",
              "       [3.0230039e-01],\n",
              "       [8.8465179e-04],\n",
              "       [1.9070853e-02],\n",
              "       [6.7697611e-04],\n",
              "       [1.1173014e-03],\n",
              "       [3.7455722e-03],\n",
              "       [9.4544381e-02],\n",
              "       [2.8125909e-01],\n",
              "       [6.9000685e-01],\n",
              "       [2.3879644e-03],\n",
              "       [6.0491782e-01],\n",
              "       [2.5942945e-04],\n",
              "       [8.2339787e-01],\n",
              "       [2.0801644e-01],\n",
              "       [1.3393869e-03],\n",
              "       [9.7311980e-01],\n",
              "       [9.8133010e-01],\n",
              "       [7.6424652e-01],\n",
              "       [7.3880750e-01],\n",
              "       [4.0714461e-02],\n",
              "       [5.0478947e-01],\n",
              "       [2.2017437e-03],\n",
              "       [6.5395529e-03],\n",
              "       [1.1839980e-03],\n",
              "       [1.4859487e-03],\n",
              "       [9.9819183e-01],\n",
              "       [1.2261339e-01],\n",
              "       [2.7896476e-03],\n",
              "       [1.1114326e-03],\n",
              "       [1.2964773e-03],\n",
              "       [7.5260723e-01],\n",
              "       [9.3231744e-01],\n",
              "       [2.3584040e-03],\n",
              "       [9.1210186e-01],\n",
              "       [9.9934572e-01],\n",
              "       [1.6633391e-02],\n",
              "       [2.2387060e-03],\n",
              "       [1.0810533e-02],\n",
              "       [9.1588026e-01],\n",
              "       [8.7029109e-04],\n",
              "       [1.1647735e-02],\n",
              "       [2.0533861e-03],\n",
              "       [9.9944484e-01],\n",
              "       [4.3391885e-04],\n",
              "       [1.5753381e-03],\n",
              "       [4.3678388e-01],\n",
              "       [7.7652448e-01],\n",
              "       [6.2903154e-01],\n",
              "       [9.8105419e-01],\n",
              "       [7.9037410e-01],\n",
              "       [1.8696373e-03],\n",
              "       [9.9580896e-01],\n",
              "       [8.9919019e-01],\n",
              "       [9.9739039e-01],\n",
              "       [4.1178075e-04],\n",
              "       [9.9264181e-01],\n",
              "       [8.9265245e-01],\n",
              "       [6.7870325e-04],\n",
              "       [6.7140800e-01],\n",
              "       [3.1688835e-03],\n",
              "       [6.3259315e-01],\n",
              "       [1.1613689e-03],\n",
              "       [7.4086428e-02],\n",
              "       [6.4152814e-03],\n",
              "       [9.9446642e-01],\n",
              "       [8.7871724e-01],\n",
              "       [4.0685376e-03],\n",
              "       [9.8046064e-01],\n",
              "       [9.9890286e-01],\n",
              "       [1.6515989e-02],\n",
              "       [7.2122971e-03],\n",
              "       [1.4724096e-03],\n",
              "       [1.5036359e-03],\n",
              "       [2.4502699e-03],\n",
              "       [9.7189665e-01],\n",
              "       [1.3357755e-03],\n",
              "       [9.2165992e-03],\n",
              "       [8.0383605e-01],\n",
              "       [2.0012560e-03],\n",
              "       [2.2378764e-03],\n",
              "       [9.6642703e-01],\n",
              "       [2.0902487e-03],\n",
              "       [7.2932208e-01],\n",
              "       [7.6119147e-02],\n",
              "       [2.0785952e-01],\n",
              "       [5.6029522e-01],\n",
              "       [7.3501509e-01],\n",
              "       [1.4259891e-03],\n",
              "       [5.0216752e-01],\n",
              "       [9.5145625e-01],\n",
              "       [8.4317857e-01],\n",
              "       [7.3859544e-04],\n",
              "       [8.1141621e-01],\n",
              "       [5.2078156e-04],\n",
              "       [8.9412546e-01],\n",
              "       [6.3824132e-03],\n",
              "       [3.4178831e-03],\n",
              "       [2.5129321e-03],\n",
              "       [9.9910647e-01],\n",
              "       [9.9503112e-01],\n",
              "       [9.9619311e-01],\n",
              "       [9.8872596e-01],\n",
              "       [8.7014949e-01],\n",
              "       [1.0560286e-03],\n",
              "       [9.9319786e-01],\n",
              "       [1.9740006e-03],\n",
              "       [5.8619189e-04],\n",
              "       [1.8695520e-03],\n",
              "       [7.0313543e-02],\n",
              "       [8.2880742e-04],\n",
              "       [2.9151719e-03],\n",
              "       [9.9336684e-01],\n",
              "       [1.8801490e-03],\n",
              "       [2.1985653e-03],\n",
              "       [9.8610485e-01],\n",
              "       [9.9943680e-01],\n",
              "       [2.0347387e-02],\n",
              "       [6.3378742e-04],\n",
              "       [3.1053104e-02],\n",
              "       [2.0052440e-02],\n",
              "       [9.9583679e-01],\n",
              "       [3.2077560e-03],\n",
              "       [9.6939319e-01],\n",
              "       [1.5116222e-03],\n",
              "       [5.7713395e-01],\n",
              "       [9.7431338e-01],\n",
              "       [2.0665035e-03],\n",
              "       [1.8915613e-03],\n",
              "       [9.8074752e-01],\n",
              "       [1.9049359e-03],\n",
              "       [1.2620296e-02],\n",
              "       [9.9458295e-01],\n",
              "       [9.8151785e-01],\n",
              "       [9.5277178e-01],\n",
              "       [8.6969680e-01],\n",
              "       [2.5621159e-02],\n",
              "       [6.8889208e-02],\n",
              "       [9.9007058e-01],\n",
              "       [9.7691464e-01],\n",
              "       [9.9089122e-01],\n",
              "       [1.3762336e-03],\n",
              "       [2.4667738e-02],\n",
              "       [9.8930109e-01],\n",
              "       [9.9360913e-01],\n",
              "       [9.9374253e-01],\n",
              "       [8.0234319e-01],\n",
              "       [1.4824161e-02],\n",
              "       [8.4863894e-04],\n",
              "       [2.3665711e-01],\n",
              "       [1.9379909e-03],\n",
              "       [4.8464187e-03],\n",
              "       [1.7660936e-02],\n",
              "       [5.2427623e-04],\n",
              "       [1.1766966e-03],\n",
              "       [2.0801644e-01],\n",
              "       [3.5059832e-03],\n",
              "       [9.9905002e-01],\n",
              "       [8.4285915e-01],\n",
              "       [9.1313726e-01],\n",
              "       [9.8426968e-01],\n",
              "       [9.7240573e-01],\n",
              "       [2.2803252e-03],\n",
              "       [9.1060436e-01],\n",
              "       [5.6586618e-04],\n",
              "       [1.2410857e-02],\n",
              "       [9.4397640e-01],\n",
              "       [6.5760249e-01],\n",
              "       [9.7453952e-01],\n",
              "       [9.5752740e-01],\n",
              "       [2.7741655e-03],\n",
              "       [7.1844399e-01],\n",
              "       [1.1046423e-03],\n",
              "       [6.7523348e-01],\n",
              "       [9.8186785e-01],\n",
              "       [9.0593970e-01],\n",
              "       [9.9236768e-01],\n",
              "       [2.5137870e-03],\n",
              "       [1.4232174e-03],\n",
              "       [3.6833782e-02],\n",
              "       [8.3906841e-01],\n",
              "       [1.4802424e-03],\n",
              "       [9.9342668e-01],\n",
              "       [9.2926592e-01],\n",
              "       [9.9666071e-01],\n",
              "       [7.3764883e-03],\n",
              "       [1.7683146e-03],\n",
              "       [8.2040101e-04],\n",
              "       [2.4477062e-03],\n",
              "       [2.0303151e-04],\n",
              "       [1.8381868e-03],\n",
              "       [9.7736239e-01],\n",
              "       [8.1613347e-02],\n",
              "       [4.7331344e-02],\n",
              "       [1.3958565e-03],\n",
              "       [1.0546974e-03],\n",
              "       [1.4253958e-03],\n",
              "       [9.9203217e-01],\n",
              "       [9.5459306e-01],\n",
              "       [2.8169092e-03],\n",
              "       [1.7933531e-02],\n",
              "       [7.1965199e-04],\n",
              "       [9.8482150e-01],\n",
              "       [8.3618712e-01],\n",
              "       [1.3676923e-03],\n",
              "       [9.6060115e-01],\n",
              "       [1.4933883e-03],\n",
              "       [9.9907666e-01],\n",
              "       [8.5463470e-01],\n",
              "       [9.7889549e-01],\n",
              "       [6.9101864e-01],\n",
              "       [2.4689035e-03],\n",
              "       [2.6250544e-01],\n",
              "       [2.0546606e-03]], dtype=float32)"
            ]
          },
          "metadata": {},
          "execution_count": 29
        }
      ]
    },
    {
      "cell_type": "code",
      "source": [
        "predictions_classes=np.where(predictions >0.5,1,0)"
      ],
      "metadata": {
        "id": "T5GCNRN-aNXy"
      },
      "id": "T5GCNRN-aNXy",
      "execution_count": 30,
      "outputs": []
    },
    {
      "cell_type": "code",
      "source": [
        "predictions_classes"
      ],
      "metadata": {
        "colab": {
          "base_uri": "https://localhost:8080/"
        },
        "id": "l9sgUBWibbIs",
        "outputId": "672256ea-735c-417d-a1ca-339c3119531d"
      },
      "id": "l9sgUBWibbIs",
      "execution_count": 32,
      "outputs": [
        {
          "output_type": "execute_result",
          "data": {
            "text/plain": [
              "array([[0],\n",
              "       [0],\n",
              "       [0],\n",
              "       [0],\n",
              "       [0],\n",
              "       [0],\n",
              "       [0],\n",
              "       [0],\n",
              "       [0],\n",
              "       [0],\n",
              "       [1],\n",
              "       [1],\n",
              "       [0],\n",
              "       [1],\n",
              "       [0],\n",
              "       [0],\n",
              "       [1],\n",
              "       [1],\n",
              "       [1],\n",
              "       [1],\n",
              "       [0],\n",
              "       [0],\n",
              "       [1],\n",
              "       [0],\n",
              "       [1],\n",
              "       [0],\n",
              "       [0],\n",
              "       [1],\n",
              "       [0],\n",
              "       [0],\n",
              "       [1],\n",
              "       [0],\n",
              "       [0],\n",
              "       [1],\n",
              "       [1],\n",
              "       [0],\n",
              "       [0],\n",
              "       [1],\n",
              "       [1],\n",
              "       [0],\n",
              "       [0],\n",
              "       [1],\n",
              "       [1],\n",
              "       [0],\n",
              "       [1],\n",
              "       [1],\n",
              "       [1],\n",
              "       [0],\n",
              "       [0],\n",
              "       [0],\n",
              "       [0],\n",
              "       [0],\n",
              "       [0],\n",
              "       [0],\n",
              "       [0],\n",
              "       [1],\n",
              "       [0],\n",
              "       [0],\n",
              "       [0],\n",
              "       [0],\n",
              "       [1],\n",
              "       [0],\n",
              "       [0],\n",
              "       [0],\n",
              "       [0],\n",
              "       [0],\n",
              "       [0],\n",
              "       [0],\n",
              "       [0],\n",
              "       [0],\n",
              "       [1],\n",
              "       [0],\n",
              "       [1],\n",
              "       [0],\n",
              "       [1],\n",
              "       [0],\n",
              "       [0],\n",
              "       [1],\n",
              "       [1],\n",
              "       [1],\n",
              "       [1],\n",
              "       [0],\n",
              "       [1],\n",
              "       [0],\n",
              "       [0],\n",
              "       [0],\n",
              "       [0],\n",
              "       [1],\n",
              "       [0],\n",
              "       [0],\n",
              "       [0],\n",
              "       [0],\n",
              "       [1],\n",
              "       [1],\n",
              "       [0],\n",
              "       [1],\n",
              "       [1],\n",
              "       [0],\n",
              "       [0],\n",
              "       [0],\n",
              "       [1],\n",
              "       [0],\n",
              "       [0],\n",
              "       [0],\n",
              "       [1],\n",
              "       [0],\n",
              "       [0],\n",
              "       [0],\n",
              "       [1],\n",
              "       [1],\n",
              "       [1],\n",
              "       [1],\n",
              "       [0],\n",
              "       [1],\n",
              "       [1],\n",
              "       [1],\n",
              "       [0],\n",
              "       [1],\n",
              "       [1],\n",
              "       [0],\n",
              "       [1],\n",
              "       [0],\n",
              "       [1],\n",
              "       [0],\n",
              "       [0],\n",
              "       [0],\n",
              "       [1],\n",
              "       [1],\n",
              "       [0],\n",
              "       [1],\n",
              "       [1],\n",
              "       [0],\n",
              "       [0],\n",
              "       [0],\n",
              "       [0],\n",
              "       [0],\n",
              "       [1],\n",
              "       [0],\n",
              "       [0],\n",
              "       [1],\n",
              "       [0],\n",
              "       [0],\n",
              "       [1],\n",
              "       [0],\n",
              "       [1],\n",
              "       [0],\n",
              "       [0],\n",
              "       [1],\n",
              "       [1],\n",
              "       [0],\n",
              "       [1],\n",
              "       [1],\n",
              "       [1],\n",
              "       [0],\n",
              "       [1],\n",
              "       [0],\n",
              "       [1],\n",
              "       [0],\n",
              "       [0],\n",
              "       [0],\n",
              "       [1],\n",
              "       [1],\n",
              "       [1],\n",
              "       [1],\n",
              "       [1],\n",
              "       [0],\n",
              "       [1],\n",
              "       [0],\n",
              "       [0],\n",
              "       [0],\n",
              "       [0],\n",
              "       [0],\n",
              "       [0],\n",
              "       [1],\n",
              "       [0],\n",
              "       [0],\n",
              "       [1],\n",
              "       [1],\n",
              "       [0],\n",
              "       [0],\n",
              "       [0],\n",
              "       [0],\n",
              "       [1],\n",
              "       [0],\n",
              "       [1],\n",
              "       [0],\n",
              "       [1],\n",
              "       [1],\n",
              "       [0],\n",
              "       [0],\n",
              "       [1],\n",
              "       [0],\n",
              "       [0],\n",
              "       [1],\n",
              "       [1],\n",
              "       [1],\n",
              "       [1],\n",
              "       [0],\n",
              "       [0],\n",
              "       [1],\n",
              "       [1],\n",
              "       [1],\n",
              "       [0],\n",
              "       [0],\n",
              "       [1],\n",
              "       [1],\n",
              "       [1],\n",
              "       [1],\n",
              "       [0],\n",
              "       [0],\n",
              "       [0],\n",
              "       [0],\n",
              "       [0],\n",
              "       [0],\n",
              "       [0],\n",
              "       [0],\n",
              "       [0],\n",
              "       [0],\n",
              "       [1],\n",
              "       [1],\n",
              "       [1],\n",
              "       [1],\n",
              "       [1],\n",
              "       [0],\n",
              "       [1],\n",
              "       [0],\n",
              "       [0],\n",
              "       [1],\n",
              "       [1],\n",
              "       [1],\n",
              "       [1],\n",
              "       [0],\n",
              "       [1],\n",
              "       [0],\n",
              "       [1],\n",
              "       [1],\n",
              "       [1],\n",
              "       [1],\n",
              "       [0],\n",
              "       [0],\n",
              "       [0],\n",
              "       [1],\n",
              "       [0],\n",
              "       [1],\n",
              "       [1],\n",
              "       [1],\n",
              "       [0],\n",
              "       [0],\n",
              "       [0],\n",
              "       [0],\n",
              "       [0],\n",
              "       [0],\n",
              "       [1],\n",
              "       [0],\n",
              "       [0],\n",
              "       [0],\n",
              "       [0],\n",
              "       [0],\n",
              "       [1],\n",
              "       [1],\n",
              "       [0],\n",
              "       [0],\n",
              "       [0],\n",
              "       [1],\n",
              "       [1],\n",
              "       [0],\n",
              "       [1],\n",
              "       [0],\n",
              "       [1],\n",
              "       [1],\n",
              "       [1],\n",
              "       [1],\n",
              "       [0],\n",
              "       [0],\n",
              "       [0]])"
            ]
          },
          "metadata": {},
          "execution_count": 32
        }
      ]
    },
    {
      "cell_type": "markdown",
      "source": [
        "\n",
        "## **Evaluating Model Performance**\n",
        "\n",
        "So how well did we do? How do we actually measure \"well\". Is 95% accuracy good enough? It all depends on the situation. Also we need to take into account things like recall and precision. Make sure to watch the video discussion on classification evaluation before running this code!\n",
        "\n"
      ],
      "metadata": {
        "id": "tG4bsoddfU66"
      },
      "id": "tG4bsoddfU66"
    },
    {
      "cell_type": "code",
      "source": [
        "model.metrics_names"
      ],
      "metadata": {
        "colab": {
          "base_uri": "https://localhost:8080/"
        },
        "id": "UBKsb9D8bez_",
        "outputId": "4895e8a5-b7e2-4472-940f-5ebda2b46058"
      },
      "id": "UBKsb9D8bez_",
      "execution_count": 33,
      "outputs": [
        {
          "output_type": "execute_result",
          "data": {
            "text/plain": [
              "['loss', 'accuracy']"
            ]
          },
          "metadata": {},
          "execution_count": 33
        }
      ]
    },
    {
      "cell_type": "code",
      "source": [
        "model.evaluate(x=Scaled_X_test,y=y_test)"
      ],
      "metadata": {
        "colab": {
          "base_uri": "https://localhost:8080/"
        },
        "id": "OKJgFF23b0OW",
        "outputId": "9d7df44c-dcb8-41f2-cf01-e4969df3ee77"
      },
      "id": "OKJgFF23b0OW",
      "execution_count": 34,
      "outputs": [
        {
          "output_type": "stream",
          "name": "stdout",
          "text": [
            "9/9 [==============================] - 0s 6ms/step - loss: 0.1359 - accuracy: 0.9564\n"
          ]
        },
        {
          "output_type": "execute_result",
          "data": {
            "text/plain": [
              "[0.13589628040790558, 0.9563636183738708]"
            ]
          },
          "metadata": {},
          "execution_count": 34
        }
      ]
    },
    {
      "cell_type": "code",
      "source": [
        "from sklearn.metrics import classification_report,confusion_matrix"
      ],
      "metadata": {
        "id": "AU854dPpb9tS"
      },
      "id": "AU854dPpb9tS",
      "execution_count": 35,
      "outputs": []
    },
    {
      "cell_type": "code",
      "source": [
        "confusion_matrix(y_test,predictions_classes)"
      ],
      "metadata": {
        "colab": {
          "base_uri": "https://localhost:8080/"
        },
        "id": "FemFiD5lcAfJ",
        "outputId": "32ed3478-e90b-494b-e588-1a31370eaf94"
      },
      "id": "FemFiD5lcAfJ",
      "execution_count": 36,
      "outputs": [
        {
          "output_type": "execute_result",
          "data": {
            "text/plain": [
              "array([[147,   1],\n",
              "       [ 11, 116]])"
            ]
          },
          "metadata": {},
          "execution_count": 36
        }
      ]
    },
    {
      "cell_type": "code",
      "source": [
        "print(classification_report(y_test,predictions_classes))"
      ],
      "metadata": {
        "colab": {
          "base_uri": "https://localhost:8080/"
        },
        "id": "syZWqfQucSOH",
        "outputId": "52cf2ada-8b17-4f19-c221-986613833ae2"
      },
      "id": "syZWqfQucSOH",
      "execution_count": 37,
      "outputs": [
        {
          "output_type": "stream",
          "name": "stdout",
          "text": [
            "              precision    recall  f1-score   support\n",
            "\n",
            "         0.0       0.93      0.99      0.96       148\n",
            "         1.0       0.99      0.91      0.95       127\n",
            "\n",
            "    accuracy                           0.96       275\n",
            "   macro avg       0.96      0.95      0.96       275\n",
            "weighted avg       0.96      0.96      0.96       275\n",
            "\n"
          ]
        }
      ]
    },
    {
      "cell_type": "markdown",
      "source": [
        "## Saving and Loading Models\n",
        "\n",
        "Now that we have a model trained, let's see how we can save and load it."
      ],
      "metadata": {
        "id": "GWlJAWRifgW6"
      },
      "id": "GWlJAWRifgW6"
    },
    {
      "cell_type": "code",
      "source": [
        "model.save('myfirstmodel.h5')"
      ],
      "metadata": {
        "colab": {
          "base_uri": "https://localhost:8080/"
        },
        "id": "jNuoK4Itfk2L",
        "outputId": "b7af8653-10f6-497d-8cad-191f2f1a4254"
      },
      "id": "jNuoK4Itfk2L",
      "execution_count": 39,
      "outputs": [
        {
          "output_type": "stream",
          "name": "stderr",
          "text": [
            "/usr/local/lib/python3.10/dist-packages/keras/src/engine/training.py:3103: UserWarning: You are saving your model as an HDF5 file via `model.save()`. This file format is considered legacy. We recommend using instead the native Keras format, e.g. `model.save('my_model.keras')`.\n",
            "  saving_api.save_model(\n"
          ]
        }
      ]
    },
    {
      "cell_type": "code",
      "source": [
        "from keras.models import load_model"
      ],
      "metadata": {
        "id": "qMft_KGhfpS-"
      },
      "id": "qMft_KGhfpS-",
      "execution_count": 40,
      "outputs": []
    },
    {
      "cell_type": "code",
      "source": [
        "newmodel = load_model('myfirstmodel.h5')"
      ],
      "metadata": {
        "id": "hfMlaFFSftpg"
      },
      "id": "hfMlaFFSftpg",
      "execution_count": 41,
      "outputs": []
    },
    {
      "cell_type": "code",
      "source": [
        "#newmodel.predict(X_test)\n",
        "#Need to change this code according to the new approach"
      ],
      "metadata": {
        "id": "7deUUzArfzMn"
      },
      "id": "7deUUzArfzMn",
      "execution_count": 46,
      "outputs": []
    }
  ],
  "metadata": {
    "kernelspec": {
      "display_name": "Python 3 (ipykernel)",
      "language": "python",
      "name": "python3"
    },
    "language_info": {
      "codemirror_mode": {
        "name": "ipython",
        "version": 3
      },
      "file_extension": ".py",
      "mimetype": "text/x-python",
      "name": "python",
      "nbconvert_exporter": "python",
      "pygments_lexer": "ipython3",
      "version": "3.11.7"
    },
    "colab": {
      "provenance": []
    }
  },
  "nbformat": 4,
  "nbformat_minor": 5
}